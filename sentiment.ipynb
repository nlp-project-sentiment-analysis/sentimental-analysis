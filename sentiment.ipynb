{
 "cells": [
  {
   "cell_type": "code",
   "execution_count": 83,
   "metadata": {},
   "outputs": [],
   "source": [
    "import pandas as pd"
   ]
  },
  {
   "cell_type": "code",
   "execution_count": null,
   "metadata": {},
   "outputs": [],
   "source": [
    "pos_df = pd.read_csv(\"./datasets/pos_english_text.csv\", encoding=\"latin\")\n",
    "neg_df = pd.read_csv(\"./datasets/neg_english_text.csv\", encoding=\"latin\")\n",
    "raw_df = pd.concat([pos_df, neg_df])\n",
    "raw_df"
   ]
  },
  {
   "cell_type": "code",
   "execution_count": null,
   "metadata": {},
   "outputs": [],
   "source": [
    "lab_to_sentiment = {0: \"Negative\", 4: \"Positive\"}\n",
    "\n",
    "\n",
    "def label_decoder(label):\n",
    "    return lab_to_sentiment[label]\n",
    "\n",
    "\n",
    "raw_df.sentiment = raw_df.sentiment.apply(lambda x: label_decoder(x))\n",
    "raw_df"
   ]
  },
  {
   "cell_type": "code",
   "execution_count": null,
   "metadata": {},
   "outputs": [],
   "source": [
    "raw_df.info()"
   ]
  },
  {
   "cell_type": "code",
   "execution_count": null,
   "metadata": {},
   "outputs": [],
   "source": [
    "raw_df.describe()"
   ]
  },
  {
   "cell_type": "code",
   "execution_count": null,
   "metadata": {},
   "outputs": [],
   "source": [
    "raw_df.drop_duplicates(inplace=True)\n",
    "raw_df.describe().T"
   ]
  },
  {
   "cell_type": "code",
   "execution_count": null,
   "metadata": {},
   "outputs": [],
   "source": [
    "raw_df.groupby(['sentiment']).size().reset_index(name='counts')"
   ]
  },
  {
   "cell_type": "code",
   "execution_count": null,
   "metadata": {},
   "outputs": [],
   "source": [
    "# import matplotlib.pyplot as plt\n",
    "# val_count = raw_df.sentiment.value_counts()\n",
    "\n",
    "# plt.figure(figsize=(8,8),facecolor='white')\n",
    "# plt.pie(val_count.values, labels = val_count.index, autopct='%1.1f%%')\n",
    "# plt.title(\"Sentiment Data Distribution\")\n",
    "# plt.show() "
   ]
  },
  {
   "cell_type": "code",
   "execution_count": null,
   "metadata": {},
   "outputs": [],
   "source": [
    "abbreviations_df = pd.read_csv(\"./datasets/abbreviations.csv\")\n",
    "apostrophe_df = pd.read_csv(\"./datasets/apostrophe.csv\")\n",
    "emoji_df = pd.read_csv(\"./datasets/emoji.csv\")\n",
    "emoticons_df = pd.read_csv(\"./datasets/emoticons.csv\")"
   ]
  },
  {
   "cell_type": "code",
   "execution_count": null,
   "metadata": {},
   "outputs": [],
   "source": [
    "abbreviations_df = abbreviations_df.applymap(\n",
    "    lambda x: x.casefold() if isinstance(x, str) else x\n",
    ")\n",
    "apostrophe_df = apostrophe_df.applymap(\n",
    "    lambda x: x.casefold() if isinstance(x, str) else x\n",
    ")\n",
    "emoticons_df[\"emoji_name\"] = emoticons_df[\"emoji_name\"].apply(\n",
    "    lambda x: x.casefold() if isinstance(x, str) else x\n",
    ")\n",
    "emoji_df = emoji_df.applymap(\n",
    "    lambda x: x.casefold() if isinstance(x, str) else x\n",
    ")"
   ]
  },
  {
   "cell_type": "code",
   "execution_count": null,
   "metadata": {},
   "outputs": [],
   "source": [
    "# abbreviations_dict = abbreviations_df.to_dict('dict')\n",
    "# apostrophe_dict = apostrophe_df.to_dict('dict')\n",
    "# emoji_dict = emoji_df.to_dict('dict')\n",
    "# emoticons_dict = emoticons_df.to_dict('dict')\n",
    "abbreviations_dict = dict(abbreviations_df.values)\n",
    "apostrophe_dict = dict(apostrophe_df.values)\n",
    "emoji_dict = dict(emoji_df.values)\n",
    "emoticons_dict = dict(emoticons_df.values)"
   ]
  },
  {
   "cell_type": "code",
   "execution_count": null,
   "metadata": {},
   "outputs": [],
   "source": [
    "# raw_df = raw_df.sample(10000)"
   ]
  },
  {
   "cell_type": "code",
   "execution_count": null,
   "metadata": {},
   "outputs": [],
   "source": [
    "def lookup_dict(text, dictionary):\n",
    "    for word in text.split():\n",
    "        if word.lower() in dictionary and word.lower() in text.split():\n",
    "            text = text.replace(word, dictionary[word.lower()])\n",
    "    return text"
   ]
  },
  {
   "cell_type": "code",
   "execution_count": null,
   "metadata": {},
   "outputs": [],
   "source": [
    "def translate(input_text):\n",
    "    from googletrans import Translator\n",
    "    translator = Translator()\n",
    "    text = translator.translate(input_text).text\n",
    "    return str(text)"
   ]
  },
  {
   "cell_type": "code",
   "execution_count": null,
   "metadata": {},
   "outputs": [],
   "source": [
    "def preProcessing(input_text, isSpellCheck=False, isTranslate=False):\n",
    "    # Step A : Converting html entities i.e. (&lt; &gt; &amp;)\n",
    "    import html\n",
    "    text = html.unescape(input_text)\n",
    "    # Step B : Removing \"@user\" from all the tweets\n",
    "    import re\n",
    "    text = re.sub(\"@[\\w]*\", \"\", text)\n",
    "    # Step C : Remove http & https links\n",
    "    text = re.sub(\"http://\\S+|https://\\S+\", \"\", text)\n",
    "    # Translation\n",
    "    if isTranslate:\n",
    "        text = translate(text)\n",
    "    # Step D : Changing all the tweets into lowercase\n",
    "    text = lookup_dict(text, emoticons_dict)\n",
    "    # Step G : Emoticon Lookup\n",
    "    text = lookup_dict(text, emoji_dict)\n",
    "    # text = text.lower()\n",
    "    text = text.lower()\n",
    "    # Step E : Apostrophe Lookup\n",
    "    text = lookup_dict(text, apostrophe_dict)\n",
    "    # Step F : Short Word Lookup\n",
    "    text = lookup_dict(text, abbreviations_dict)\n",
    "    # Step G : Emoticon Lookup\n",
    "    # Step H : Replacing Punctuations with space\n",
    "    text = re.sub(r\"[^\\w\\s]\", \" \", text)\n",
    "    # Step I : Replacing Special Characters & Numbers (integers) with space\n",
    "    text = re.sub(r\"[^a-zA-Z]\", \" \", text)\n",
    "    # Step J : Spelling Correction - With TextBlob Library\n",
    "    if isSpellCheck:\n",
    "        from textblob import TextBlob\n",
    "        text = str(TextBlob(text).correct())\n",
    "    # Step K: Remove whitespace\n",
    "    text = re.sub(r\"\\s+\", \" \", text)\n",
    "\n",
    "    return text"
   ]
  },
  {
   "cell_type": "code",
   "execution_count": null,
   "metadata": {},
   "outputs": [],
   "source": [
    "from tqdm import tqdm\n",
    "tqdm.pandas()"
   ]
  },
  {
   "cell_type": "code",
   "execution_count": null,
   "metadata": {},
   "outputs": [],
   "source": [
    "raw_df['clear_text'] = raw_df['text'].progress_apply(lambda x: preProcessing(x))\n",
    "raw_df.head()"
   ]
  },
  {
   "cell_type": "code",
   "execution_count": null,
   "metadata": {},
   "outputs": [],
   "source": [
    "pd.set_option('display.max_colwidth', None)\n",
    "raw_df[[\"text\", \"clear_text\"]].sample(20)"
   ]
  },
  {
   "cell_type": "code",
   "execution_count": null,
   "metadata": {},
   "outputs": [],
   "source": [
    "from nltk.tokenize import word_tokenize\n",
    "from nltk.corpus import stopwords\n",
    "\n",
    "def tokenize(clean_text):\n",
    "    tokens = word_tokenize(clean_text)\n",
    "    stop_words = set(stopwords.words(\"english\"))\n",
    "    negation_words = [\n",
    "        \"not\",\n",
    "        \"never\",\n",
    "        \"neither\",\n",
    "        \"nor\",\n",
    "        \"barely\",\n",
    "        \"hardly\",\n",
    "        \"scarcely\",\n",
    "        \"seldom\",\n",
    "        \"rarely\",\n",
    "        \"no\",\n",
    "        \"nothing\",\n",
    "        \"none\",\n",
    "        \"nobody\",\n",
    "        \"nowhere\",\n",
    "    ]\n",
    "    return [token for token in tokens if token in negation_words or token not in stop_words]"
   ]
  },
  {
   "cell_type": "code",
   "execution_count": null,
   "metadata": {},
   "outputs": [],
   "source": [
    "raw_df['tokens'] = raw_df['clear_text'].progress_apply(lambda x: tokenize(x))\n",
    "raw_df.head()"
   ]
  },
  {
   "cell_type": "code",
   "execution_count": null,
   "metadata": {},
   "outputs": [],
   "source": [
    "# from textblob import TextBlob\n",
    "# from vaderSentiment.vaderSentiment import SentimentIntensityAnalyzer\n",
    "\n",
    "\n",
    "# def selectPolarity(tokens):\n",
    "#     analyzer = SentimentIntensityAnalyzer()\n",
    "#     negation_words = [\n",
    "#         \"not\",\n",
    "#         \"never\",\n",
    "#         \"neither\",\n",
    "#         \"nor\",\n",
    "#         \"barely\",\n",
    "#         \"hardly\",\n",
    "#         \"scarcely\",\n",
    "#         \"seldom\",\n",
    "#         \"rarely\",\n",
    "#         \"no\",\n",
    "#         \"nothing\",\n",
    "#         \"none\",\n",
    "#         \"nobody\",\n",
    "#         \"nowhere\",\n",
    "#     ]\n",
    "#     # return [token for token in tokens if (token in negation_words) or (TextBlob(token).sentiment.polarity != 0)]\n",
    "#     return [\n",
    "#         token\n",
    "#         for token in tokens\n",
    "#         if (token in negation_words)\n",
    "#         or (\n",
    "#             analyzer.polarity_scores(token)[\"compound\"] <= -0.5\n",
    "#             or analyzer.polarity_scores(token)[\"compound\"] >= 0.5\n",
    "#         )\n",
    "#     ]"
   ]
  },
  {
   "cell_type": "code",
   "execution_count": null,
   "metadata": {},
   "outputs": [],
   "source": [
    "# from vaderSentiment.vaderSentiment import SentimentIntensityAnalyzer\n",
    "\n",
    "\n",
    "# def selectPolarity(clear_text):\n",
    "#     analyzer = SentimentIntensityAnalyzer()\n",
    "#     # negation_words = [\n",
    "#     #     \"not\",\n",
    "#     #     \"never\",\n",
    "#     #     \"neither\",\n",
    "#     #     \"nor\",\n",
    "#     #     \"barely\",\n",
    "#     #     \"hardly\",\n",
    "#     #     \"scarcely\",\n",
    "#     #     \"seldom\",\n",
    "#     #     \"rarely\",\n",
    "#     #     \"no\",\n",
    "#     #     \"nothing\",\n",
    "#     #     \"none\",\n",
    "#     #     \"nobody\",\n",
    "#     #     \"nowhere\",\n",
    "#     # ]\n",
    "#     # return [token for token in tokens if (token in negation_words) or (TextBlob(token).sentiment.polarity != 0)]\n",
    "#     # return [\n",
    "#         # token\n",
    "#         # for token in tokens\n",
    "#         # if (token in negation_words)\n",
    "#         # or (\n",
    "#         #     analyzer.polarity_scores(token)[\"compound\"] <= -0.5\n",
    "#         #     or analyzer.polarity_scores(token)[\"compound\"] >= 0.5\n",
    "#         # )\n",
    "#     if analyzer.polarity_scores(clear_text)[\"compound\"] <= 0:\n",
    "#         return \"neg\"\n",
    "#     else: \n",
    "#         return \"pos\"\n",
    "#     # ]"
   ]
  },
  {
   "cell_type": "code",
   "execution_count": null,
   "metadata": {},
   "outputs": [],
   "source": [
    "# raw_df['polarity_tokens'] = raw_df['clear_text'].progress_apply(lambda x: selectPolarity(x))\n",
    "# raw_df[['clear_text','polarity_tokens']]"
   ]
  },
  {
   "cell_type": "code",
   "execution_count": null,
   "metadata": {},
   "outputs": [],
   "source": [
    "# pd.set_option('display.max_colwidth', None)\n",
    "# raw_df[['tokens','polarity_tokens']].sample(20)"
   ]
  },
  {
   "cell_type": "code",
   "execution_count": null,
   "metadata": {},
   "outputs": [],
   "source": [
    "def get_wordnet_pos(word):\n",
    "    \"\"\"Map POS tag to first character lemmatize() accepts\"\"\"\n",
    "    import nltk\n",
    "    from nltk.corpus import wordnet\n",
    "\n",
    "    tag = nltk.pos_tag([word])[0][1][0].upper()\n",
    "    tag_dict = {\n",
    "        \"J\": wordnet.ADJ,\n",
    "        \"N\": wordnet.NOUN,\n",
    "        \"V\": wordnet.VERB,\n",
    "        \"R\": wordnet.ADV,\n",
    "    }\n",
    "\n",
    "    return tag_dict.get(tag, wordnet.NOUN)"
   ]
  },
  {
   "cell_type": "code",
   "execution_count": null,
   "metadata": {},
   "outputs": [],
   "source": [
    "def Lemmatizer(tokens):\n",
    "    # Importing library for lemmatizing\n",
    "    from nltk.stem.wordnet import WordNetLemmatizer\n",
    "\n",
    "    lemmatizer = WordNetLemmatizer()\n",
    "    return [lemmatizer.lemmatize(i, get_wordnet_pos(i)) for i in tokens]"
   ]
  },
  {
   "cell_type": "code",
   "execution_count": null,
   "metadata": {},
   "outputs": [],
   "source": [
    "raw_df['lemmats'] = raw_df['tokens'].progress_apply(lambda x: Lemmatizer(x))\n",
    "raw_df.head()"
   ]
  },
  {
   "cell_type": "code",
   "execution_count": null,
   "metadata": {},
   "outputs": [],
   "source": [
    "raw_df.sample(10)"
   ]
  },
  {
   "cell_type": "code",
   "execution_count": null,
   "metadata": {},
   "outputs": [],
   "source": [
    "# df = raw_df[['lemmats','sentiment']]\n",
    "# del raw_df\n",
    "# df"
   ]
  },
  {
   "cell_type": "code",
   "execution_count": 84,
   "metadata": {},
   "outputs": [],
   "source": [
    "df = pd.read_csv(\"./datasets/tokens.csv\")"
   ]
  },
  {
   "cell_type": "code",
   "execution_count": 85,
   "metadata": {},
   "outputs": [
    {
     "data": {
      "text/plain": [
       "953580     ['sick', 'bad', 'throat', 'bad', 'toothache', ...\n",
       "231394     ['congrats', 'still', 'watch', 'friend', 'ever...\n",
       "30277      ['baaaaaaaaaaaaaaaaaaaaaaaaaaaaaaaaaaaaaaaaaaa...\n",
       "1541956    ['today', 'take', 'chris', 'get', 'tonsil', 'p...\n",
       "291964                                    ['do', 'cleaning']\n",
       "                                 ...                        \n",
       "1555807    ['ok', 'work', 'need', 'pack', 'overnight', 's...\n",
       "339577     ['make', 'skirt', 'rhiannons', 'party', 'yayay...\n",
       "106082     ['wats', 'world', 'x', 'basketball', 'game', '...\n",
       "1147814    ['actually', 'go', 'nb', 'branch', 'cubao', 'c...\n",
       "712210                                     ['sound', 'good']\n",
       "Name: lemmats, Length: 1108583, dtype: object"
      ]
     },
     "execution_count": 85,
     "metadata": {},
     "output_type": "execute_result"
    }
   ],
   "source": [
    "from sklearn.model_selection import train_test_split\n",
    "\n",
    "X_train, X_test, Y_train, Y_test = train_test_split(\n",
    "    df[\"lemmats\"].apply(lambda x: \"\".join(x)),\n",
    "    df[\"sentiment\"],\n",
    "    test_size=0.3,\n",
    "    random_state=60,\n",
    "    shuffle=True,\n",
    "    stratify=df[\"sentiment\"],\n",
    ")\n",
    "X_train"
   ]
  },
  {
   "cell_type": "code",
   "execution_count": 86,
   "metadata": {},
   "outputs": [],
   "source": [
    "from sklearn.feature_extraction.text import TfidfVectorizer\n",
    "\n",
    "# vectorizer = TfidfVectorizer()\n",
    "# tfidf_text = vectorizer.fit_transform(X_train)\n",
    "# tfidf_text"
   ]
  },
  {
   "cell_type": "code",
   "execution_count": 97,
   "metadata": {},
   "outputs": [],
   "source": [
    "from sklearn.pipeline import Pipeline\n",
    "from sklearn.naive_bayes import MultinomialNB\n",
    "\n",
    "\n",
    "nb = Pipeline([('tfidf', TfidfVectorizer()),\n",
    "               ('clf', MultinomialNB()),\n",
    "              ])"
   ]
  },
  {
   "cell_type": "code",
   "execution_count": null,
   "metadata": {},
   "outputs": [],
   "source": [
    "nb.fit(X_train,Y_train)"
   ]
  },
  {
   "cell_type": "code",
   "execution_count": null,
   "metadata": {},
   "outputs": [],
   "source": [
    "target_category = df['sentiment'].unique()\n",
    "target_category"
   ]
  },
  {
   "cell_type": "code",
   "execution_count": null,
   "metadata": {},
   "outputs": [],
   "source": [
    "from sklearn.metrics import accuracy_score\n",
    "from sklearn.metrics import classification_report\n",
    "from sklearn.metrics import confusion_matrix, ConfusionMatrixDisplay\n",
    "import matplotlib.pyplot as plt\n",
    "\n",
    "test_predict = nb.predict(X_test)\n",
    "\n",
    "train_accuracy = round(nb.score(X_train,Y_train)*100)\n",
    "test_accuracy =round(accuracy_score(test_predict, Y_test)*100)\n",
    "\n",
    "\n",
    "print(f\"Naive Bayes Train Accuracy Score : {train_accuracy}% \")\n",
    "print(f\"Naive Bayes Test Accuracy Score  : {test_accuracy}% \")\n",
    "print(classification_report(test_predict, Y_test, target_names=[\"pos\",\"neg\"]))\n",
    "\n",
    "cm = confusion_matrix(Y_test, test_predict)\n",
    "# cm\n",
    "disp = ConfusionMatrixDisplay(confusion_matrix=cm,display_labels=[\"pos\",\"neg\"])\n",
    "disp.plot()\n",
    "plt.show()"
   ]
  },
  {
   "cell_type": "code",
   "execution_count": 107,
   "metadata": {},
   "outputs": [],
   "source": [
    "from sklearn.pipeline import Pipeline\n",
    "\n",
    "def model_result(clf, X_train, Y_train, X_test, Y_test):\n",
    "    print(f\"Clf: {clf}\")\n",
    "    model = Pipeline(\n",
    "        [\n",
    "            (\"tfidf\", TfidfVectorizer()),\n",
    "            (\"clf\", clf)\n",
    "        ]\n",
    "    )\n",
    "    model.fit(X_train.toarray(), Y_train.toarray())\n",
    "    test_predict = model.predict(X_test.toarray())\n",
    "\n",
    "    train_accuracy = round(model.score(X_train, Y_train) * 100)\n",
    "    test_accuracy = round(accuracy_score(test_predict, Y_test) * 100)\n",
    "\n",
    "    print(f\"Naive Bayes Train Accuracy Score : {train_accuracy}% \")\n",
    "    print(f\"Naive Bayes Test Accuracy Score  : {test_accuracy}% \")\n",
    "    print(classification_report(test_predict, Y_test, target_names=[\"pos\", \"neg\"]))\n",
    "\n",
    "    cm = confusion_matrix(Y_test, test_predict)\n",
    "    disp = ConfusionMatrixDisplay(confusion_matrix=cm, display_labels=[\"pos\", \"neg\"])\n",
    "    disp.plot()\n",
    "    plt.show()\n",
    "    return model"
   ]
  },
  {
   "cell_type": "code",
   "execution_count": 105,
   "metadata": {},
   "outputs": [
    {
     "name": "stdout",
     "output_type": "stream",
     "text": [
      "Clf: MultinomialNB()\n",
      "Naive Bayes Train Accuracy Score : 79% \n",
      "Naive Bayes Test Accuracy Score  : 76% \n",
      "              precision    recall  f1-score   support\n",
      "\n",
      "         pos       0.77      0.75      0.76    241913\n",
      "         neg       0.75      0.77      0.76    233194\n",
      "\n",
      "    accuracy                           0.76    475107\n",
      "   macro avg       0.76      0.76      0.76    475107\n",
      "weighted avg       0.76      0.76      0.76    475107\n",
      "\n"
     ]
    },
    {
     "data": {
      "image/png": "[encoded data removed]",
      "text/plain": [
       "<Figure size 640x480 with 2 Axes>"
      ]
     },
     "metadata": {},
     "output_type": "display_data"
    },
    {
     "data": {
      "text/html": [
       "<style>#sk-container-id-4 {color: black;background-color: white;}#sk-container-id-4 pre{padding: 0;}#sk-container-id-4 div.sk-toggleable {background-color: white;}#sk-container-id-4 label.sk-toggleable__label {cursor: pointer;display: block;width: 100%;margin-bottom: 0;padding: 0.3em;box-sizing: border-box;text-align: center;}#sk-container-id-4 label.sk-toggleable__label-arrow:before {content: \"▸\";float: left;margin-right: 0.25em;color: #696969;}#sk-container-id-4 label.sk-toggleable__label-arrow:hover:before {color: black;}#sk-container-id-4 div.sk-estimator:hover label.sk-toggleable__label-arrow:before {color: black;}#sk-container-id-4 div.sk-toggleable__content {max-height: 0;max-width: 0;overflow: hidden;text-align: left;background-color: #f0f8ff;}#sk-container-id-4 div.sk-toggleable__content pre {margin: 0.2em;color: black;border-radius: 0.25em;background-color: #f0f8ff;}#sk-container-id-4 input.sk-toggleable__control:checked~div.sk-toggleable__content {max-height: 200px;max-width: 100%;overflow: auto;}#sk-container-id-4 input.sk-toggleable__control:checked~label.sk-toggleable__label-arrow:before {content: \"▾\";}#sk-container-id-4 div.sk-estimator input.sk-toggleable__control:checked~label.sk-toggleable__label {background-color: #d4ebff;}#sk-container-id-4 div.sk-label input.sk-toggleable__control:checked~label.sk-toggleable__label {background-color: #d4ebff;}#sk-container-id-4 input.sk-hidden--visually {border: 0;clip: rect(1px 1px 1px 1px);clip: rect(1px, 1px, 1px, 1px);height: 1px;margin: -1px;overflow: hidden;padding: 0;position: absolute;width: 1px;}#sk-container-id-4 div.sk-estimator {font-family: monospace;background-color: #f0f8ff;border: 1px dotted black;border-radius: 0.25em;box-sizing: border-box;margin-bottom: 0.5em;}#sk-container-id-4 div.sk-estimator:hover {background-color: #d4ebff;}#sk-container-id-4 div.sk-parallel-item::after {content: \"\";width: 100%;border-bottom: 1px solid gray;flex-grow: 1;}#sk-container-id-4 div.sk-label:hover label.sk-toggleable__label {background-color: #d4ebff;}#sk-container-id-4 div.sk-serial::before {content: \"\";position: absolute;border-left: 1px solid gray;box-sizing: border-box;top: 0;bottom: 0;left: 50%;z-index: 0;}#sk-container-id-4 div.sk-serial {display: flex;flex-direction: column;align-items: center;background-color: white;padding-right: 0.2em;padding-left: 0.2em;position: relative;}#sk-container-id-4 div.sk-item {position: relative;z-index: 1;}#sk-container-id-4 div.sk-parallel {display: flex;align-items: stretch;justify-content: center;background-color: white;position: relative;}#sk-container-id-4 div.sk-item::before, #sk-container-id-4 div.sk-parallel-item::before {content: \"\";position: absolute;border-left: 1px solid gray;box-sizing: border-box;top: 0;bottom: 0;left: 50%;z-index: -1;}#sk-container-id-4 div.sk-parallel-item {display: flex;flex-direction: column;z-index: 1;position: relative;background-color: white;}#sk-container-id-4 div.sk-parallel-item:first-child::after {align-self: flex-end;width: 50%;}#sk-container-id-4 div.sk-parallel-item:last-child::after {align-self: flex-start;width: 50%;}#sk-container-id-4 div.sk-parallel-item:only-child::after {width: 0;}#sk-container-id-4 div.sk-dashed-wrapped {border: 1px dashed gray;margin: 0 0.4em 0.5em 0.4em;box-sizing: border-box;padding-bottom: 0.4em;background-color: white;}#sk-container-id-4 div.sk-label label {font-family: monospace;font-weight: bold;display: inline-block;line-height: 1.2em;}#sk-container-id-4 div.sk-label-container {text-align: center;}#sk-container-id-4 div.sk-container {/* jupyter's `normalize.less` sets `[hidden] { display: none; }` but bootstrap.min.css set `[hidden] { display: none !important; }` so we also need the `!important` here to be able to override the default hidden behavior on the sphinx rendered scikit-learn.org. See: https://github.com/scikit-learn/scikit-learn/issues/21755 */display: inline-block !important;position: relative;}#sk-container-id-4 div.sk-text-repr-fallback {display: none;}</style><div id=\"sk-container-id-4\" class=\"sk-top-container\"><div class=\"sk-text-repr-fallback\"><pre>Pipeline(steps=[(&#x27;tfidf&#x27;, TfidfVectorizer()), (&#x27;clf&#x27;, MultinomialNB())])</pre><b>In a Jupyter environment, please rerun this cell to show the HTML representation or trust the notebook. <br />On GitHub, the HTML representation is unable to render, please try loading this page with nbviewer.org.</b></div><div class=\"sk-container\" hidden><div class=\"sk-item sk-dashed-wrapped\"><div class=\"sk-label-container\"><div class=\"sk-label sk-toggleable\"><input class=\"sk-toggleable__control sk-hidden--visually\" id=\"sk-estimator-id-10\" type=\"checkbox\" ><label for=\"sk-estimator-id-10\" class=\"sk-toggleable__label sk-toggleable__label-arrow\">Pipeline</label><div class=\"sk-toggleable__content\"><pre>Pipeline(steps=[(&#x27;tfidf&#x27;, TfidfVectorizer()), (&#x27;clf&#x27;, MultinomialNB())])</pre></div></div></div><div class=\"sk-serial\"><div class=\"sk-item\"><div class=\"sk-estimator sk-toggleable\"><input class=\"sk-toggleable__control sk-hidden--visually\" id=\"sk-estimator-id-11\" type=\"checkbox\" ><label for=\"sk-estimator-id-11\" class=\"sk-toggleable__label sk-toggleable__label-arrow\">TfidfVectorizer</label><div class=\"sk-toggleable__content\"><pre>TfidfVectorizer()</pre></div></div></div><div class=\"sk-item\"><div class=\"sk-estimator sk-toggleable\"><input class=\"sk-toggleable__control sk-hidden--visually\" id=\"sk-estimator-id-12\" type=\"checkbox\" ><label for=\"sk-estimator-id-12\" class=\"sk-toggleable__label sk-toggleable__label-arrow\">MultinomialNB</label><div class=\"sk-toggleable__content\"><pre>MultinomialNB()</pre></div></div></div></div></div></div></div>"
      ],
      "text/plain": [
       "Pipeline(steps=[('tfidf', TfidfVectorizer()), ('clf', MultinomialNB())])"
      ]
     },
     "execution_count": 105,
     "metadata": {},
     "output_type": "execute_result"
    }
   ],
   "source": [
    "model_result(MultinomialNB(),X_train, Y_train, X_test, Y_test)"
   ]
  },
  {
   "cell_type": "code",
   "execution_count": 108,
   "metadata": {},
   "outputs": [
    {
     "name": "stdout",
     "output_type": "stream",
     "text": [
      "Clf: GaussianNB()\n"
     ]
    }
   ],
   "source": [
    "from sklearn.naive_bayes import GaussianNB\n",
    "from sklearn.naive_bayes import MultinomialNB\n",
    "from sklearn.naive_bayes import BernoulliNB\n",
    "from sklearn.linear_model import LogisticRegressionCV\n",
    "from sklearn import svm\n",
    "\n",
    "clfs = [\n",
    "    GaussianNB(),\n",
    "    MultinomialNB(),\n",
    "    BernoulliNB(),\n",
    "    LogisticRegressionCV(cv=5, random_state=24),\n",
    "    svm.SVC(random_state=24),\n",
    "]\n",
    "\n",
    "for clf in clfs:\n",
    "    model_result(clf, X_train, Y_train, X_test, Y_test)"
   ]
  }
 ],
 "metadata": {
  "kernelspec": {
   "display_name": "Python 3.10.7 ('.venv': venv)",
   "language": "python",
   "name": "python3"
  },
  "language_info": {
   "codemirror_mode": {
    "name": "ipython",
    "version": 3
   },
   "file_extension": ".py",
   "mimetype": "text/x-python",
   "name": "python",
   "nbconvert_exporter": "python",
   "pygments_lexer": "ipython3",
   "version": "3.10.7"
  },
  "vscode": {
   "interpreter": {
    "hash": "4700c6ff8b9d89e4e7abd74e3a20dcedf312211d3844b849cf7bb4753846898a"
   }
  }
 },
 "nbformat": 4,
 "nbformat_minor": 2
}
